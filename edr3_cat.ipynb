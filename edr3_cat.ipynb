{
 "cells": [
  {
   "cell_type": "markdown",
   "id": "51993aee",
   "metadata": {},
   "source": [
    "Bit of work with Nicola's EDR3 catalogue https://arxiv.org/abs/2106.07669"
   ]
  },
  {
   "cell_type": "code",
   "execution_count": 1,
   "id": "b54195aa",
   "metadata": {},
   "outputs": [],
   "source": [
    "import numpy as np\n",
    "import matplotlib.pyplot as plt\n",
    "import astropy.io.fits as fits\n",
    "import os\n",
    "import glob\n",
    "from astropy.table import Table\n",
    "from astropy.io import ascii\n",
    "import astropy.units as u\n",
    "\n",
    "#matplotlib set up\n",
    "%matplotlib inline\n",
    "from matplotlib import rcParams\n",
    "rcParams[\"figure.figsize\"] = (14, 5)\n",
    "rcParams[\"font.size\"] = 20\n"
   ]
  },
  {
   "cell_type": "code",
   "execution_count": 2,
   "id": "4c3c3272",
   "metadata": {},
   "outputs": [],
   "source": [
    "tablename = 'gaiaedr3_wd_main.fits'"
   ]
  },
  {
   "cell_type": "code",
   "execution_count": 3,
   "id": "ae89c25e",
   "metadata": {},
   "outputs": [
    {
     "name": "stdout",
     "output_type": "stream",
     "text": [
      "Filename: gaiaedr3_wd_main.fits\n",
      "No.    Name      Ver    Type      Cards   Dimensions   Format\n",
      "  0  PRIMARY       1 PrimaryHDU      16   (116123,)   uint8   \n",
      "  1  Joined        1 BinTableHDU    660   1280266R x 161C   [23A, K, K, 29A, D, E, D, E, D, E, E, D, D, D, K, K, D, E, D, D, E, D, E, E, E, E, E, E, E, E, E, E, E, I, I, I, I, E, E, E, E, I, L, E, E, E, E, E, E, E, E, I, I, E, I, I, I, E, E, I, I, E, E, E, E, E, E, E, E, E, L, I, D, E, E, E, D, D, D, D, I, D, E, E, E, D, I, D, E, E, E, D, I, I, I, I, I, E, D, D, E, E, E, E, E, I, E, E, E, D, D, D, D, D, I, D, D, D, I, D, D, D, D, D, D, D, D, D, D, D, D, D, D, D, D, D, D, D, D, D, D, D, D, D, D, D, D, 19A, I, D, D, D, D, D, D, D, D, D, D, D, J]   \n"
     ]
    }
   ],
   "source": [
    "hdul = fits.open(tablename)\n",
    "hdul.info()"
   ]
  },
  {
   "cell_type": "code",
   "execution_count": 4,
   "id": "e654601a",
   "metadata": {},
   "outputs": [
    {
     "data": {
      "text/plain": [
       "['WDJ_name',\n",
       " 'source_id',\n",
       " 'dr2_source_id',\n",
       " 'designation',\n",
       " 'ra',\n",
       " 'ra_error',\n",
       " 'dec',\n",
       " 'dec_error',\n",
       " 'parallax',\n",
       " 'parallax_error',\n",
       " 'parallax_over_error',\n",
       " 'ZP_correction',\n",
       " 'Pwd',\n",
       " 'density',\n",
       " 'solution_id',\n",
       " 'random_index',\n",
       " 'ref_epoch',\n",
       " 'pm',\n",
       " 'pm_err',\n",
       " 'pmra',\n",
       " 'pmra_error',\n",
       " 'pmdec',\n",
       " 'pmdec_error',\n",
       " 'ra_dec_corr',\n",
       " 'ra_parallax_corr',\n",
       " 'ra_pmra_corr',\n",
       " 'ra_pmdec_corr',\n",
       " 'dec_parallax_corr',\n",
       " 'dec_pmra_corr',\n",
       " 'dec_pmdec_corr',\n",
       " 'parallax_pmra_corr',\n",
       " 'parallax_pmdec_corr',\n",
       " 'pmra_pmdec_corr',\n",
       " 'astrometric_n_obs_al',\n",
       " 'astrometric_n_obs_ac',\n",
       " 'astrometric_n_good_obs_al',\n",
       " 'astrometric_n_bad_obs_al',\n",
       " 'astrometric_gof_al',\n",
       " 'astrometric_chi2_al',\n",
       " 'astrometric_excess_noise',\n",
       " 'astrometric_excess_noise_sig',\n",
       " 'astrometric_params_solved',\n",
       " 'astrometric_primary_flag',\n",
       " 'nu_eff_used_in_astrometry',\n",
       " 'pseudocolour',\n",
       " 'pseudocolour_error',\n",
       " 'ra_pseudocolour_corr',\n",
       " 'dec_pseudocolour_corr',\n",
       " 'parallax_pseudocolour_corr',\n",
       " 'pmra_pseudocolour_corr',\n",
       " 'pmdec_pseudocolour_corr',\n",
       " 'astrometric_matched_transits',\n",
       " 'visibility_periods_used',\n",
       " 'astrometric_sigma5d_max',\n",
       " 'matched_transits',\n",
       " 'new_matched_transits',\n",
       " 'matched_transits_removed',\n",
       " 'ipd_gof_harmonic_amplitude',\n",
       " 'ipd_gof_harmonic_phase',\n",
       " 'ipd_frac_multi_peak',\n",
       " 'ipd_frac_odd_win',\n",
       " 'ruwe',\n",
       " 'scan_direction_strength_k1',\n",
       " 'scan_direction_strength_k2',\n",
       " 'scan_direction_strength_k3',\n",
       " 'scan_direction_strength_k4',\n",
       " 'scan_direction_mean_k1',\n",
       " 'scan_direction_mean_k2',\n",
       " 'scan_direction_mean_k3',\n",
       " 'scan_direction_mean_k4',\n",
       " 'duplicated_source',\n",
       " 'phot_g_n_obs',\n",
       " 'phot_g_mean_flux',\n",
       " 'phot_g_mean_flux_error',\n",
       " 'phot_g_mean_flux_over_error',\n",
       " 'phot_g_mean_mag',\n",
       " 'phot_g_mean_mag_error',\n",
       " 'phot_g_mean_flux_corrected',\n",
       " 'phot_g_mean_mag_corrected',\n",
       " 'phot_g_mean_mag_error_corrected',\n",
       " 'phot_bp_n_obs',\n",
       " 'phot_bp_mean_flux',\n",
       " 'phot_bp_mean_flux_error',\n",
       " 'phot_bp_mean_flux_over_error',\n",
       " 'phot_bp_mean_mag',\n",
       " 'phot_bp_mean_mag_error',\n",
       " 'phot_rp_n_obs',\n",
       " 'phot_rp_mean_flux',\n",
       " 'phot_rp_mean_flux_error',\n",
       " 'phot_rp_mean_flux_over_error',\n",
       " 'phot_rp_mean_mag',\n",
       " 'phot_rp_mean_mag_error',\n",
       " 'phot_bp_n_contaminated_transits',\n",
       " 'phot_bp_n_blended_transits',\n",
       " 'phot_rp_n_contaminated_transits',\n",
       " 'phot_rp_n_blended_transits',\n",
       " 'phot_proc_mode',\n",
       " 'phot_bp_rp_excess_factor',\n",
       " 'phot_bp_rp_excess_factor_corrected',\n",
       " 'absG',\n",
       " 'bp_rp',\n",
       " 'bp_g',\n",
       " 'g_rp',\n",
       " 'dr2_radial_velocity',\n",
       " 'dr2_radial_velocity_error',\n",
       " 'dr2_rv_nb_transits',\n",
       " 'dr2_rv_template_teff',\n",
       " 'dr2_rv_template_logg',\n",
       " 'dr2_rv_template_fe_h',\n",
       " 'l',\n",
       " 'b',\n",
       " 'ecl_lon',\n",
       " 'ecl_lat',\n",
       " 'excess_flux_error',\n",
       " 'bright_N_flag',\n",
       " 'meanAV',\n",
       " 'minAV',\n",
       " 'maxAV',\n",
       " 'flag_ext',\n",
       " 'teff_H',\n",
       " 'eteff_H',\n",
       " 'logg_H',\n",
       " 'elogg_H',\n",
       " 'mass_H',\n",
       " 'emass_H',\n",
       " 'chisq_H',\n",
       " 'teff_He',\n",
       " 'eteff_He',\n",
       " 'logg_He',\n",
       " 'elogg_He',\n",
       " 'mass_He',\n",
       " 'emass_He',\n",
       " 'chisq_He',\n",
       " 'teff_mixed',\n",
       " 'eteff_mixed',\n",
       " 'logg_mixed',\n",
       " 'elogg_mixed',\n",
       " 'mass_mixed',\n",
       " 'emass_mixed',\n",
       " 'chisq_mixed',\n",
       " 'r_med_geo',\n",
       " 'r_lo_geo',\n",
       " 'r_hi_geo',\n",
       " 'r_med_photogeo',\n",
       " 'r_lo_photogeo',\n",
       " 'r_hi_photogeo',\n",
       " 'fidelity_v1',\n",
       " 'SDSS12',\n",
       " 'sdss_clean',\n",
       " 'umag',\n",
       " 'e_umag',\n",
       " 'gmag',\n",
       " 'e_gmag',\n",
       " 'rmag',\n",
       " 'e_rmag',\n",
       " 'imag',\n",
       " 'e_imag',\n",
       " 'zmag',\n",
       " 'e_zmag',\n",
       " 'SDSS_separation',\n",
       " 'SDSS_spec']"
      ]
     },
     "execution_count": 4,
     "metadata": {},
     "output_type": "execute_result"
    }
   ],
   "source": [
    "data = hdul[1].data\n",
    "data.names"
   ]
  },
  {
   "cell_type": "code",
   "execution_count": 5,
   "id": "ff1700ee",
   "metadata": {},
   "outputs": [],
   "source": [
    "tall, Gall = data['Teff_H'], data['phot_g_mean_mag_corrected']"
   ]
  },
  {
   "cell_type": "code",
   "execution_count": 6,
   "id": "9bdf367e",
   "metadata": {},
   "outputs": [
    {
     "name": "stderr",
     "output_type": "stream",
     "text": [
      "/home/david/anaconda3/envs/astroconda/lib/python3.6/site-packages/ipykernel_launcher.py:3: RuntimeWarning: invalid value encountered in greater\n",
      "  This is separate from the ipykernel package so we can avoid doing imports until\n",
      "/home/david/anaconda3/envs/astroconda/lib/python3.6/site-packages/ipykernel_launcher.py:3: RuntimeWarning: invalid value encountered in less\n",
      "  This is separate from the ipykernel package so we can avoid doing imports until\n"
     ]
    }
   ],
   "source": [
    "tcut = [25000, 100000]\n",
    "gcut = 17.1\n",
    "mask = (tall > tcut[0]) &( tall < tcut[1]) & (Gall < gcut)\n",
    "t, g = tall[mask], Gall[mask]"
   ]
  },
  {
   "cell_type": "code",
   "execution_count": 7,
   "id": "b7d564f8",
   "metadata": {},
   "outputs": [
    {
     "name": "stdout",
     "output_type": "stream",
     "text": [
      "1175\n"
     ]
    },
    {
     "data": {
      "image/png": "[encoded data removed]",
      "text/plain": [
       "<Figure size 1008x360 with 1 Axes>"
      ]
     },
     "metadata": {
      "needs_background": "light"
     },
     "output_type": "display_data"
    }
   ],
   "source": [
    "plt.scatter(t, g)\n",
    "print(len(t))"
   ]
  },
  {
   "cell_type": "code",
   "execution_count": 8,
   "id": "f675b00e",
   "metadata": {},
   "outputs": [
    {
     "data": {
      "text/plain": [
       "Text(0, 0.5, '$n$')"
      ]
     },
     "execution_count": 8,
     "metadata": {},
     "output_type": "execute_result"
    },
    {
     "data": {
      "image/png": "[encoded data removed]",
      "text/plain": [
       "<Figure size 1008x360 with 2 Axes>"
      ]
     },
     "metadata": {
      "needs_background": "light"
     },
     "output_type": "display_data"
    }
   ],
   "source": [
    "plt.subplot(121)\n",
    "plt.hist(t, bins=100)\n",
    "plt.subplot(122)\n",
    "plt.hist(g, bins=[10, 11, 13, 13, 14, 15, 16, 17])\n",
    "plt.xlabel('$G_{\\mathrm{mag}}$')\n",
    "plt.ylabel('$n$')\n"
   ]
  },
  {
   "cell_type": "code",
   "execution_count": 9,
   "id": "a0ef43e3",
   "metadata": {},
   "outputs": [
    {
     "name": "stderr",
     "output_type": "stream",
     "text": [
      "/home/david/anaconda3/envs/astroconda/lib/python3.6/site-packages/numpy/lib/histograms.py:839: RuntimeWarning: invalid value encountered in greater_equal\n",
      "  keep = (tmp_a >= first_edge)\n",
      "/home/david/anaconda3/envs/astroconda/lib/python3.6/site-packages/numpy/lib/histograms.py:840: RuntimeWarning: invalid value encountered in less_equal\n",
      "  keep &= (tmp_a <= last_edge)\n"
     ]
    },
    {
     "data": {
      "text/plain": [
       "(array([1.8062e+04, 2.4685e+04, 2.4381e+04, 2.2490e+04, 2.3663e+04,\n",
       "        2.5008e+04, 2.4094e+04, 1.9664e+04, 1.5587e+04, 1.4002e+04,\n",
       "        1.1600e+04, 9.8410e+03, 8.2370e+03, 7.1780e+03, 6.0350e+03,\n",
       "        5.1450e+03, 4.2950e+03, 3.6680e+03, 3.2890e+03, 3.0190e+03,\n",
       "        2.6920e+03, 2.2730e+03, 1.9230e+03, 1.6740e+03, 1.3940e+03,\n",
       "        1.1050e+03, 9.2000e+02, 7.4600e+02, 5.9400e+02, 5.2300e+02,\n",
       "        4.3100e+02, 3.8600e+02, 3.4100e+02, 2.4500e+02, 2.3400e+02,\n",
       "        1.8500e+02, 1.8500e+02, 1.4200e+02, 9.9000e+01, 1.1700e+02,\n",
       "        8.8000e+01, 9.9000e+01, 6.7000e+01, 5.4000e+01, 7.7000e+01,\n",
       "        5.2000e+01, 4.6000e+01, 5.3000e+01, 3.9000e+01, 3.2000e+01,\n",
       "        3.0000e+01, 5.0000e+01, 3.1000e+01, 2.7000e+01, 2.1000e+01,\n",
       "        2.1000e+01, 2.4000e+01, 2.3000e+01, 2.2000e+01, 2.6000e+01,\n",
       "        1.9000e+01, 2.3000e+01, 1.8000e+01, 2.0000e+01, 1.3000e+01,\n",
       "        1.6000e+01, 1.6000e+01, 1.8000e+01, 1.4000e+01, 9.0000e+00,\n",
       "        1.1000e+01, 1.4000e+01, 1.1000e+01, 5.0000e+00, 1.5000e+01,\n",
       "        6.0000e+00, 7.0000e+00, 1.4000e+01, 6.0000e+00, 1.4000e+01,\n",
       "        7.0000e+00, 9.0000e+00, 1.3000e+01, 5.0000e+00, 8.0000e+00,\n",
       "        6.0000e+00, 1.0000e+01, 1.2000e+01, 3.0000e+00, 8.0000e+00,\n",
       "        7.0000e+00, 6.0000e+00, 7.0000e+00, 1.1000e+01, 4.0000e+00,\n",
       "        1.0000e+00, 3.0000e+00, 3.0000e+00, 4.0000e+00, 6.0000e+00]),\n",
       " array([  5000.,   5950.,   6900.,   7850.,   8800.,   9750.,  10700.,\n",
       "         11650.,  12600.,  13550.,  14500.,  15450.,  16400.,  17350.,\n",
       "         18300.,  19250.,  20200.,  21150.,  22100.,  23050.,  24000.,\n",
       "         24950.,  25900.,  26850.,  27800.,  28750.,  29700.,  30650.,\n",
       "         31600.,  32550.,  33500.,  34450.,  35400.,  36350.,  37300.,\n",
       "         38250.,  39200.,  40150.,  41100.,  42050.,  43000.,  43950.,\n",
       "         44900.,  45850.,  46800.,  47750.,  48700.,  49650.,  50600.,\n",
       "         51550.,  52500.,  53450.,  54400.,  55350.,  56300.,  57250.,\n",
       "         58200.,  59150.,  60100.,  61050.,  62000.,  62950.,  63900.,\n",
       "         64850.,  65800.,  66750.,  67700.,  68650.,  69600.,  70550.,\n",
       "         71500.,  72450.,  73400.,  74350.,  75300.,  76250.,  77200.,\n",
       "         78150.,  79100.,  80050.,  81000.,  81950.,  82900.,  83850.,\n",
       "         84800.,  85750.,  86700.,  87650.,  88600.,  89550.,  90500.,\n",
       "         91450.,  92400.,  93350.,  94300.,  95250.,  96200.,  97150.,\n",
       "         98100.,  99050., 100000.]),\n",
       " <BarContainer object of 100 artists>)"
      ]
     },
     "execution_count": 9,
     "metadata": {},
     "output_type": "execute_result"
    },
    {
     "data": {
      "image/png": "[encoded data removed]",
      "text/plain": [
       "<Figure size 1008x360 with 1 Axes>"
      ]
     },
     "metadata": {
      "needs_background": "light"
     },
     "output_type": "display_data"
    }
   ],
   "source": [
    "plt.hist(tall, bins=100, range= (5000, 100000))"
   ]
  },
  {
   "cell_type": "code",
   "execution_count": 10,
   "id": "9adf53cb",
   "metadata": {},
   "outputs": [],
   "source": [
    "# plt.figure(figsize=(6,6))\n",
    "# plt.scatter(tall, data['absG'])\n",
    "# plt.xlabel('T_e')\n",
    "# plt.tight_layout()"
   ]
  },
  {
   "cell_type": "code",
   "execution_count": 11,
   "id": "cb46fbae",
   "metadata": {},
   "outputs": [
    {
     "data": {
      "image/png": "[encoded data removed]",
      "text/plain": [
       "<Figure size 432x432 with 1 Axes>"
      ]
     },
     "metadata": {
      "needs_background": "light"
     },
     "output_type": "display_data"
    }
   ],
   "source": [
    "plt.figure(figsize=(6,6))\n",
    "plt.scatter(tall, Gall)\n",
    "plt.scatter(t, g)\n",
    "plt.ylim(21, 8.1)\n",
    "plt.xlabel('$T_{\\mathrm{eff}}$')\n",
    "plt.ylabel('$G_{\\mathrm{mag}}$')\n",
    "plt.xlim(2000, 140000)\n",
    "plt.tight_layout()"
   ]
  },
  {
   "cell_type": "code",
   "execution_count": 12,
   "id": "e89113cf",
   "metadata": {},
   "outputs": [
    {
     "data": {
      "text/plain": [
       "(array([2.97730e+05, 2.97730e+05, 2.97385e+05, 2.94642e+05, 2.86500e+05,\n",
       "        2.75221e+05, 2.61221e+05, 2.45851e+05, 2.31004e+05, 2.17204e+05,\n",
       "        2.03766e+05, 1.89968e+05, 1.75315e+05, 1.60504e+05, 1.45173e+05,\n",
       "        1.30924e+05, 1.18140e+05, 1.07405e+05, 9.79730e+04, 8.89410e+04,\n",
       "        8.07560e+04, 7.33820e+04, 6.67240e+04, 6.07670e+04, 5.53370e+04,\n",
       "        5.04880e+04, 4.60040e+04, 4.19330e+04, 3.82390e+04, 3.49010e+04,\n",
       "        3.18190e+04, 2.91570e+04, 2.66420e+04, 2.43810e+04, 2.23570e+04,\n",
       "        2.03630e+04, 1.85270e+04, 1.67680e+04, 1.51350e+04, 1.36720e+04,\n",
       "        1.22870e+04, 1.10890e+04, 9.97700e+03, 8.97500e+03, 8.03200e+03,\n",
       "        7.21600e+03, 6.48000e+03, 5.91000e+03, 5.30700e+03, 4.79300e+03,\n",
       "        4.37900e+03, 3.99600e+03, 3.66100e+03, 3.33500e+03, 3.07100e+03,\n",
       "        2.81300e+03, 2.58100e+03, 2.34600e+03, 2.13000e+03, 1.95600e+03,\n",
       "        1.81100e+03, 1.66800e+03, 1.54000e+03, 1.42500e+03, 1.30600e+03,\n",
       "        1.20800e+03, 1.12000e+03, 1.03700e+03, 9.80000e+02, 9.12000e+02,\n",
       "        8.46000e+02, 7.86000e+02, 7.27000e+02, 6.77000e+02, 6.21000e+02,\n",
       "        5.85000e+02, 5.47000e+02, 5.18000e+02, 4.64000e+02, 4.32000e+02,\n",
       "        4.00000e+02, 3.72000e+02, 3.43000e+02, 3.12000e+02, 2.87000e+02,\n",
       "        2.59000e+02, 2.37000e+02, 2.21000e+02, 2.04000e+02, 1.79000e+02,\n",
       "        1.51000e+02, 1.31000e+02, 1.10000e+02, 9.70000e+01, 8.20000e+01,\n",
       "        6.80000e+01, 5.60000e+01, 4.40000e+01, 3.00000e+01, 1.50000e+01]),\n",
       " array([ 3000.,  3570.,  4140.,  4710.,  5280.,  5850.,  6420.,  6990.,\n",
       "         7560.,  8130.,  8700.,  9270.,  9840., 10410., 10980., 11550.,\n",
       "        12120., 12690., 13260., 13830., 14400., 14970., 15540., 16110.,\n",
       "        16680., 17250., 17820., 18390., 18960., 19530., 20100., 20670.,\n",
       "        21240., 21810., 22380., 22950., 23520., 24090., 24660., 25230.,\n",
       "        25800., 26370., 26940., 27510., 28080., 28650., 29220., 29790.,\n",
       "        30360., 30930., 31500., 32070., 32640., 33210., 33780., 34350.,\n",
       "        34920., 35490., 36060., 36630., 37200., 37770., 38340., 38910.,\n",
       "        39480., 40050., 40620., 41190., 41760., 42330., 42900., 43470.,\n",
       "        44040., 44610., 45180., 45750., 46320., 46890., 47460., 48030.,\n",
       "        48600., 49170., 49740., 50310., 50880., 51450., 52020., 52590.,\n",
       "        53160., 53730., 54300., 54870., 55440., 56010., 56580., 57150.,\n",
       "        57720., 58290., 58860., 59430., 60000.]),\n",
       " <BarContainer object of 100 artists>)"
      ]
     },
     "execution_count": 12,
     "metadata": {},
     "output_type": "execute_result"
    },
    {
     "data": {
      "image/png": "[encoded data removed]",
      "text/plain": [
       "<Figure size 1008x360 with 1 Axes>"
      ]
     },
     "metadata": {
      "needs_background": "light"
     },
     "output_type": "display_data"
    }
   ],
   "source": [
    "plt.hist(tall, cumulative=-1, bins=100, range=[3000, 60000])"
   ]
  },
  {
   "cell_type": "code",
   "execution_count": 13,
   "id": "7c794ec0",
   "metadata": {},
   "outputs": [
    {
     "data": {
      "text/plain": [
       "3574.572"
      ]
     },
     "execution_count": 13,
     "metadata": {},
     "output_type": "execute_result"
    }
   ],
   "source": [
    "min(tall)"
   ]
  },
  {
   "cell_type": "code",
   "execution_count": null,
   "id": "31118eaf",
   "metadata": {},
   "outputs": [],
   "source": []
  }
 ],
 "metadata": {
  "kernelspec": {
   "display_name": "Python 3",
   "language": "python",
   "name": "python3"
  },
  "language_info": {
   "codemirror_mode": {
    "name": "ipython",
    "version": 3
   },
   "file_extension": ".py",
   "mimetype": "text/x-python",
   "name": "python",
   "nbconvert_exporter": "python",
   "pygments_lexer": "ipython3",
   "version": "3.6.13"
  }
 },
 "nbformat": 4,
 "nbformat_minor": 5
}
